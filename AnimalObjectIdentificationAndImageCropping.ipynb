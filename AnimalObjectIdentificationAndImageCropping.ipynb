{
  "cells": [
    {
      "cell_type": "markdown",
      "source": [
        "# Overview"
      ],
      "metadata": {
        "id": "X6Emz5KG_cst"
      }
    },
    {
      "cell_type": "markdown",
      "source": [
        "The intent of this project was to deepen personal understanding and  experiences using open-source software for CNNs, specifically for identification of animals/wildlife.\n",
        "\n",
        "R-CNN pretrained model are referenced in multiple wildlife research projects, typically in conjuction with the COCO dataset for images. The PytorchWildlife library was published in 2024, and at this time has a singular reference in reviewed literature.\n",
        "\n",
        "**Faster R-CNN Articles**\n",
        "\n",
        "\n",
        "*   https://www.mdpi.com/1099-4300/24/3/353\n",
        "*   https://besjournals.onlinelibrary.wiley.com/doi/full/10.1111/2041-210X.13436\n",
        "* https://library.imaging.org/ei/articles/32/8/art00003\n",
        "\n",
        "\n",
        "\n",
        "\n",
        "**PytorchWildlife Article**\n",
        "\n",
        "\n",
        "*   https://arxiv.org/html/2405.12930v2\n",
        "\n",
        "\n",
        "**Methods**\n",
        "The CNNs were both used to detect wildlife objects. Ten total pictures were used, all from the same cameratrap. Six images were used with animals, and four images contained no animals. Three edgecases were included. One image had two animals (deer). One image had one animal that was not initially noticeable to the human viewer (rabbit). One of the non-animal images contained a barrel.\n",
        "\n",
        "Images were run through each model, and note was made of number of detections and confidence of the highest detection. Each image which originally had a bounding box placed over the image was cropped to show just the animal. Note of sized of the cropped images were made for each picture. A 15 pixel padding was added to each side of the bounding box dimensions prior to cropping.\n",
        "\n"
      ],
      "metadata": {
        "id": "D0FWJv2l7AZu"
      }
    },
    {
      "cell_type": "markdown",
      "source": [
        "# Faster R-CNN with COCO Dataset"
      ],
      "metadata": {
        "id": "Yd-XfbhiBRzm"
      }
    },
    {
      "cell_type": "markdown",
      "source": [
        "Framework for code used from AarohiSingla Lecture 6 on Pytorch for Deep Learning.\n",
        "\n",
        "*   https://github.com/AarohiSingla/pytorch-for-deep-learning/blob/main/\n",
        "\n",
        "\n",
        "Lecture_6/Object_detection_pretrained.ipynb\n",
        "\n",
        "Modifications made include making the process modular and cropping of images instead of only bounding boxes."
      ],
      "metadata": {
        "id": "6JcGHl0jByQZ"
      }
    },
    {
      "cell_type": "code",
      "execution_count": 5,
      "metadata": {
        "colab": {
          "base_uri": "https://localhost:8080/"
        },
        "id": "D1tW33X6QvlP",
        "outputId": "395bc793-3ff8-4249-f2fa-aa3e98af4f5d"
      },
      "outputs": [
        {
          "output_type": "stream",
          "name": "stderr",
          "text": [
            "/usr/local/lib/python3.10/dist-packages/torchvision/models/_utils.py:208: UserWarning: The parameter 'pretrained' is deprecated since 0.13 and may be removed in the future, please use 'weights' instead.\n",
            "  warnings.warn(\n",
            "/usr/local/lib/python3.10/dist-packages/torchvision/models/_utils.py:223: UserWarning: Arguments other than a weight enum or `None` for 'weights' are deprecated since 0.13 and may be removed in the future. The current behavior is equivalent to passing `weights=FasterRCNN_ResNet50_FPN_Weights.COCO_V1`. You can also use `weights=FasterRCNN_ResNet50_FPN_Weights.DEFAULT` to get the most up-to-date weights.\n",
            "  warnings.warn(msg)\n"
          ]
        }
      ],
      "source": [
        "from torchvision.models.detection import fasterrcnn_resnet50_fpn\n",
        "\n",
        "object_detection_model = fasterrcnn_resnet50_fpn(pretrained=True)\n",
        "\n",
        "object_detection_model.eval(); ## Setting Model for Evaluation/Prediction"
      ]
    },
    {
      "cell_type": "code",
      "execution_count": 6,
      "metadata": {
        "id": "zn0p3TmYU9DM"
      },
      "outputs": [],
      "source": [
        "import torchvision.transforms as transforms\n",
        "from PIL import Image\n",
        "import matplotlib.pyplot as plt\n",
        "import matplotlib.patches as patches\n",
        "import os"
      ]
    },
    {
      "cell_type": "code",
      "execution_count": 7,
      "metadata": {
        "id": "ujWjwfB0WCgd"
      },
      "outputs": [],
      "source": [
        "COCO_INSTANCE_CATEGORY_NAMES = [\n",
        "    '','__background__','person', 'bicycle', 'car', 'motorcycle', 'airplane', 'bus', 'train', 'truck', 'boat',\n",
        "    'traffic light', 'fire hydrant', 'stop sign', 'parking meter', 'bench', 'bird', 'cat', 'dog',\n",
        "    'horse', 'sheep', 'cow', 'elephant', 'bear', 'zebra', 'giraffe', 'backpack', 'umbrella',\n",
        "    'handbag', 'tie', 'suitcase', 'frisbee', 'skis', 'snowboard', 'sports ball', 'kite',\n",
        "    'baseball bat', 'baseball glove', 'skateboard', 'surfboard', 'tennis racket', 'bottle',\n",
        "    'wine glass', 'cup', 'fork', 'knife', 'spoon', 'bowl', 'banana', 'apple', 'sandwich',\n",
        "    'orange', 'broccoli', 'carrot', 'hot dog', 'pizza', 'donut', 'cake', 'chair', 'couch',\n",
        "    'potted plant', 'bed', 'dining table', 'toilet', 'tv', 'laptop', 'mouse', 'remote',\n",
        "    'keyboard', 'cell phone', 'microwave', 'oven', 'toaster', 'sink', 'refrigerator', 'book',\n",
        "    'clock', 'vase', 'scissors', 'teddy bear', 'hair drier', 'toothbrush'\n",
        "]"
      ]
    },
    {
      "cell_type": "code",
      "execution_count": 8,
      "metadata": {
        "id": "AdVJHRCQVJvB"
      },
      "outputs": [],
      "source": [
        "CONFIDENCE_THRESHOLD = 0.75\n",
        "PADDING = 15\n",
        "global count\n",
        "count = 1"
      ]
    },
    {
      "cell_type": "code",
      "execution_count": 9,
      "metadata": {
        "collapsed": true,
        "id": "POdqkNKuCbCU",
        "colab": {
          "base_uri": "https://localhost:8080/",
          "height": 35
        },
        "outputId": "02fa3ba2-dcc1-49da-afdc-4f9609c77ad0"
      },
      "outputs": [
        {
          "output_type": "execute_result",
          "data": {
            "text/plain": [
              "'  if check < count:\\n    return True\\n  else:\\n    print(str(score.item()) + \" for \" + str(input_img))\\n    return False'"
            ],
            "application/vnd.google.colaboratory.intrinsic+json": {
              "type": "string"
            }
          },
          "metadata": {},
          "execution_count": 9
        }
      ],
      "source": [
        "\n",
        "def predict(path, input_img):\n",
        "  # Load the image\n",
        "  test_img = Image.open(path + \"/\" +input_img)\n",
        "\n",
        "  # Define the transformation - convert image to tensor\n",
        "  transform = transforms.Compose([\n",
        "      transforms.ToTensor(),\n",
        "  ])\n",
        "\n",
        "  # Apply the transformation to the image\n",
        "  test_img_tensor = transform(test_img)\n",
        "\n",
        "  #  We added this dimension because models work on batches of images.\n",
        "  test_img_tensor = test_img_tensor.unsqueeze(dim=0)\n",
        "\n",
        "  preds = object_detection_model(test_img_tensor)\n",
        "\n",
        "\n",
        "    # Convert tensor image back to numpy for visualization\n",
        "  img = test_img_tensor.squeeze().detach().cpu().numpy()  # Adjust dimensions as necessary\n",
        "  img = img.transpose(1, 2, 0)  # Rearrange the dimensions from CxHxW to HxWxC for image display\n",
        "\n",
        "\n",
        "  # Add bounding boxes and labels\n",
        "  global count\n",
        "  check = count\n",
        "  for box, label, score in zip(preds[0]['boxes'], preds[0]['labels'], preds[0]['scores']):\n",
        "      print(str(input_img) + \" \" + str(score.item()))\n",
        "      if score.item() > CONFIDENCE_THRESHOLD:\n",
        "        x1, y1, x2, y2 = box.detach().cpu().numpy()  # Make sure to detach and convert boxes as well\n",
        "\n",
        "        label_index = label.item()\n",
        "        label_name = COCO_INSTANCE_CATEGORY_NAMES[label_index]\n",
        "        crop = test_img.crop((x1 - PADDING, y1 - PADDING, x2 + PADDING, y2 + PADDING))\n",
        "        crop.save(f'/content/COCO/{count}{input_img}')\n",
        "        count += 1\n",
        "\"\"\"  if check < count:\n",
        "    return True\n",
        "  else:\n",
        "    print(str(score.item()) + \" for \" + str(input_img))\n",
        "    return False\"\"\"\n"
      ]
    },
    {
      "cell_type": "code",
      "execution_count": 11,
      "metadata": {
        "colab": {
          "base_uri": "https://localhost:8080/"
        },
        "id": "DPEg2lz8XXiG",
        "outputId": "80fc3db4-b095-4847-d70c-50c0ed8a38ae"
      },
      "outputs": [
        {
          "output_type": "stream",
          "name": "stdout",
          "text": [
            "Test4.JPG 0.9998356103897095\n",
            "Test4.JPG 0.11353407055139542\n",
            "Test4.JPG 0.05110327526926994\n",
            "Test2.JPG 0.5805283784866333\n",
            "Test2.JPG 0.39678099751472473\n",
            "Test2.JPG 0.3940868377685547\n",
            "Test2.JPG 0.36227867007255554\n",
            "Test2.JPG 0.18475548923015594\n",
            "Test2.JPG 0.15325042605400085\n",
            "Test1.JPG 0.7772976160049438\n",
            "Test1.JPG 0.38579732179641724\n",
            "Test1.JPG 0.31881463527679443\n",
            "Test1.JPG 0.3032735288143158\n",
            "Test1.JPG 0.21026992797851562\n",
            "Test1.JPG 0.20933960378170013\n",
            "Test1.JPG 0.05504922941327095\n",
            "Test1.JPG 0.05423755571246147\n",
            "Test1.JPG 0.052307114005088806\n",
            "Test1.JPG 0.050258975476026535\n",
            "Test9.JPG 0.9208542108535767\n",
            "Test9.JPG 0.38979533314704895\n",
            "Test9.JPG 0.23030540347099304\n",
            "Test9.JPG 0.14632591605186462\n",
            "Test9.JPG 0.11261674761772156\n",
            "Test9.JPG 0.07598309218883514\n",
            "Test9.JPG 0.0560951754450798\n",
            "Test5.JPG 0.7683063745498657\n",
            "Test5.JPG 0.6897185444831848\n",
            "Test5.JPG 0.3394249975681305\n",
            "Test5.JPG 0.28510499000549316\n",
            "Test5.JPG 0.2764013111591339\n",
            "Test5.JPG 0.17390644550323486\n",
            "Test5.JPG 0.08360284566879272\n",
            "Test5.JPG 0.07391016185283661\n",
            "Test8.JPG 0.3540709912776947\n"
          ]
        }
      ],
      "source": [
        "path = '/content/Images'\n",
        "\n",
        "imageList = os.listdir(path)\n",
        "\n",
        "for im in imageList:\n",
        "  predict(path, im)"
      ]
    },
    {
      "cell_type": "code",
      "execution_count": null,
      "metadata": {
        "id": "HOW1snmqaXMJ"
      },
      "outputs": [],
      "source": [
        "c = Image.open('/content/Images/FoundAfieldLLC-35.jpg')\n",
        "c"
      ]
    },
    {
      "cell_type": "markdown",
      "metadata": {
        "id": "JrnvJPzrCvSD"
      },
      "source": [
        "\n",
        "\n",
        "---\n",
        "\n",
        "\n",
        "\n",
        "---\n",
        "\n"
      ]
    },
    {
      "cell_type": "markdown",
      "source": [
        "# PytorchWildlife"
      ],
      "metadata": {
        "id": "uqpu6KYcHSb4"
      }
    },
    {
      "cell_type": "markdown",
      "source": [
        "Code implemented using library documentation demonstration.\n",
        "\n",
        "\n",
        "*   https://github.com/microsoft/CameraTraps/blob/main/demo/image_detection_demo.ipynb\n",
        "\n",
        "Modification include change in use of batch files. The library modules for batch documents produced errors related to expected and returned datatypes, and therefore I unpacked the returned data for usage. Furthermore the crop of the image was utilized as with the other CNN.\n",
        "\n"
      ],
      "metadata": {
        "id": "ZH4w0VtNHYaQ"
      }
    },
    {
      "cell_type": "code",
      "execution_count": null,
      "metadata": {
        "id": "pWystkEODA_w"
      },
      "outputs": [],
      "source": [
        "pip install PytorchWildlife"
      ]
    },
    {
      "cell_type": "code",
      "execution_count": 1,
      "metadata": {
        "id": "sA7WqsU6CwrI"
      },
      "outputs": [],
      "source": [
        "import numpy as np\n",
        "from PIL import Image\n",
        "import torch\n",
        "from torch.utils.data import DataLoader\n",
        "from PytorchWildlife.models import detection as pw_detection\n",
        "from PytorchWildlife.data import transforms as pw_trans\n",
        "from PytorchWildlife.data import datasets as pw_data\n",
        "from PytorchWildlife import utils as pw_utils\n",
        "import os"
      ]
    },
    {
      "cell_type": "code",
      "source": [
        "PADDING = 15"
      ],
      "metadata": {
        "id": "ZA24o_BG8qBf"
      },
      "execution_count": 2,
      "outputs": []
    },
    {
      "cell_type": "code",
      "execution_count": 3,
      "metadata": {
        "id": "f4NfojqNC87V"
      },
      "outputs": [],
      "source": [
        "def predict(input_img):\n",
        "  DEVICE = \"cuda\" if torch.cuda.is_available() else \"cpu\"\n",
        "  detection_model = pw_detection.MegaDetectorV5(device=DEVICE, pretrained=True)\n",
        "  tgt_img_path = os.path.join(\"/content\",\"Images\", input_img)\n",
        "  tgt_img = Image.open(tgt_img_path).convert(\"RGB\")\n",
        "  img = np.array(tgt_img)\n",
        "  transform = pw_trans.MegaDetector_v5_Transform(target_size=detection_model.IMAGE_SIZE,\n",
        "                                                stride=detection_model.STRIDE)\n",
        "  results = detection_model.single_image_detection(transform(img), img.shape, tgt_img_path)\n",
        "  #pw_utils.save_detection_images(results, os.path.join(\".\",\"demo_output\"), overwrite=False)\n",
        "  print(results)\n",
        "  return results\n",
        "\n",
        "def crop(input_img, results):\n",
        "  x1, y1, x2, y2 = results\n",
        "  tgt_img_path = os.path.join(\"/content\",\"Images\", input_img)\n",
        "  tgt_img = Image.open(tgt_img_path).convert(\"RGB\")\n",
        "  crop = tgt_img.crop((x1 - PADDING, y1 - PADDING, x2 + PADDING, y2 + PADDING))\n",
        "  crop.save(f'/content/PyWild/{input_img}')"
      ]
    },
    {
      "cell_type": "code",
      "source": [
        "path = '/content/Images'\n",
        "\n",
        "imageList = os.listdir(path)\n",
        "print(imageList)\n",
        "\n",
        "for im in imageList:\n",
        "  if im[0] == '.':\n",
        "    continue\n",
        "  else:\n",
        "    pred = predict(im)\n",
        "    for i in range(len(pred['detections'].confidence)):\n",
        "      if pred['detections'].confidence[i] >= 0.75:\n",
        "        crop(im, pred['detections'].xyxy[i])\n"
      ],
      "metadata": {
        "colab": {
          "base_uri": "https://localhost:8080/"
        },
        "id": "Qurib4jm8s9d",
        "outputId": "ec466900-881f-4312-9027-a5b923b4c3b2"
      },
      "execution_count": 4,
      "outputs": [
        {
          "output_type": "stream",
          "name": "stdout",
          "text": [
            "['Test6.JPG', 'Test4.JPG', 'Test2.JPG', 'Test7.JPG', 'Test10.JPG', 'Test1.JPG', 'Test3.JPG', 'Test9.JPG', 'Test5.JPG', 'Test8.JPG']\n"
          ]
        },
        {
          "output_type": "stream",
          "name": "stderr",
          "text": [
            "Downloading: \"https://zenodo.org/records/10023414/files/MegaDetector_v5b.0.0.pt?download=1\" to /root/.cache/torch/hub/checkpoints/MegaDetector_v5b.0.0.pt\n",
            "100%|██████████| 268M/268M [00:10<00:00, 26.3MB/s]\n",
            "INFO:yolov5:Fusing layers... \n",
            "Fusing layers... \n",
            "Fusing layers... \n",
            "INFO:yolov5:Model summary: 733 layers, 140054656 parameters, 0 gradients, 208.8 GFLOPs\n",
            "Model summary: 733 layers, 140054656 parameters, 0 gradients, 208.8 GFLOPs\n",
            "Model summary: 733 layers, 140054656 parameters, 0 gradients, 208.8 GFLOPs\n"
          ]
        },
        {
          "output_type": "stream",
          "name": "stdout",
          "text": [
            "{'img_id': '/content/Images/Test6.JPG', 'detections': Detections(xyxy=array([], shape=(0, 4), dtype=float32), mask=None, confidence=array([], dtype=float32), class_id=array([], dtype=int64), tracker_id=None), 'labels': []}\n"
          ]
        },
        {
          "output_type": "stream",
          "name": "stderr",
          "text": [
            "INFO:yolov5:Fusing layers... \n",
            "Fusing layers... \n",
            "Fusing layers... \n",
            "INFO:yolov5:Model summary: 733 layers, 140054656 parameters, 0 gradients, 208.8 GFLOPs\n",
            "Model summary: 733 layers, 140054656 parameters, 0 gradients, 208.8 GFLOPs\n",
            "Model summary: 733 layers, 140054656 parameters, 0 gradients, 208.8 GFLOPs\n"
          ]
        },
        {
          "output_type": "stream",
          "name": "stdout",
          "text": [
            "{'img_id': '/content/Images/Test4.JPG', 'detections': Detections(xyxy=array([[        370,         188,         576,         336]], dtype=float32), mask=None, confidence=array([    0.96481], dtype=float32), class_id=array([0]), tracker_id=None), 'labels': ['animal 0.96']}\n"
          ]
        },
        {
          "output_type": "stream",
          "name": "stderr",
          "text": [
            "INFO:yolov5:Fusing layers... \n",
            "Fusing layers... \n",
            "Fusing layers... \n",
            "INFO:yolov5:Model summary: 733 layers, 140054656 parameters, 0 gradients, 208.8 GFLOPs\n",
            "Model summary: 733 layers, 140054656 parameters, 0 gradients, 208.8 GFLOPs\n",
            "Model summary: 733 layers, 140054656 parameters, 0 gradients, 208.8 GFLOPs\n"
          ]
        },
        {
          "output_type": "stream",
          "name": "stdout",
          "text": [
            "{'img_id': '/content/Images/Test2.JPG', 'detections': Detections(xyxy=array([[       1693,         678,        3569,        2768],\n",
            "       [       5013,        1271,        6397,        2255]], dtype=float32), mask=None, confidence=array([    0.94515,     0.90529], dtype=float32), class_id=array([0, 0]), tracker_id=None), 'labels': ['animal 0.95', 'animal 0.91']}\n"
          ]
        },
        {
          "output_type": "stream",
          "name": "stderr",
          "text": [
            "INFO:yolov5:Fusing layers... \n",
            "Fusing layers... \n",
            "Fusing layers... \n",
            "INFO:yolov5:Model summary: 733 layers, 140054656 parameters, 0 gradients, 208.8 GFLOPs\n",
            "Model summary: 733 layers, 140054656 parameters, 0 gradients, 208.8 GFLOPs\n",
            "Model summary: 733 layers, 140054656 parameters, 0 gradients, 208.8 GFLOPs\n"
          ]
        },
        {
          "output_type": "stream",
          "name": "stdout",
          "text": [
            "{'img_id': '/content/Images/Test7.JPG', 'detections': Detections(xyxy=array([[         75,         196,         110,         221]], dtype=float32), mask=None, confidence=array([     0.4728], dtype=float32), class_id=array([0]), tracker_id=None), 'labels': ['animal 0.47']}\n"
          ]
        },
        {
          "output_type": "stream",
          "name": "stderr",
          "text": [
            "INFO:yolov5:Fusing layers... \n",
            "Fusing layers... \n",
            "Fusing layers... \n",
            "INFO:yolov5:Model summary: 733 layers, 140054656 parameters, 0 gradients, 208.8 GFLOPs\n",
            "Model summary: 733 layers, 140054656 parameters, 0 gradients, 208.8 GFLOPs\n",
            "Model summary: 733 layers, 140054656 parameters, 0 gradients, 208.8 GFLOPs\n"
          ]
        },
        {
          "output_type": "stream",
          "name": "stdout",
          "text": [
            "{'img_id': '/content/Images/Test10.JPG', 'detections': Detections(xyxy=array([], shape=(0, 4), dtype=float32), mask=None, confidence=array([], dtype=float32), class_id=array([], dtype=int64), tracker_id=None), 'labels': []}\n"
          ]
        },
        {
          "output_type": "stream",
          "name": "stderr",
          "text": [
            "INFO:yolov5:Fusing layers... \n",
            "Fusing layers... \n",
            "Fusing layers... \n",
            "INFO:yolov5:Model summary: 733 layers, 140054656 parameters, 0 gradients, 208.8 GFLOPs\n",
            "Model summary: 733 layers, 140054656 parameters, 0 gradients, 208.8 GFLOPs\n",
            "Model summary: 733 layers, 140054656 parameters, 0 gradients, 208.8 GFLOPs\n"
          ]
        },
        {
          "output_type": "stream",
          "name": "stdout",
          "text": [
            "{'img_id': '/content/Images/Test1.JPG', 'detections': Detections(xyxy=array([[          0,          15,         302,         295]], dtype=float32), mask=None, confidence=array([    0.97251], dtype=float32), class_id=array([0]), tracker_id=None), 'labels': ['animal 0.97']}\n"
          ]
        },
        {
          "output_type": "stream",
          "name": "stderr",
          "text": [
            "INFO:yolov5:Fusing layers... \n",
            "Fusing layers... \n",
            "Fusing layers... \n",
            "INFO:yolov5:Model summary: 733 layers, 140054656 parameters, 0 gradients, 208.8 GFLOPs\n",
            "Model summary: 733 layers, 140054656 parameters, 0 gradients, 208.8 GFLOPs\n",
            "Model summary: 733 layers, 140054656 parameters, 0 gradients, 208.8 GFLOPs\n"
          ]
        },
        {
          "output_type": "stream",
          "name": "stdout",
          "text": [
            "{'img_id': '/content/Images/Test3.JPG', 'detections': Detections(xyxy=array([], shape=(0, 4), dtype=float32), mask=None, confidence=array([], dtype=float32), class_id=array([], dtype=int64), tracker_id=None), 'labels': []}\n"
          ]
        },
        {
          "output_type": "stream",
          "name": "stderr",
          "text": [
            "INFO:yolov5:Fusing layers... \n",
            "Fusing layers... \n",
            "Fusing layers... \n",
            "INFO:yolov5:Model summary: 733 layers, 140054656 parameters, 0 gradients, 208.8 GFLOPs\n",
            "Model summary: 733 layers, 140054656 parameters, 0 gradients, 208.8 GFLOPs\n",
            "Model summary: 733 layers, 140054656 parameters, 0 gradients, 208.8 GFLOPs\n"
          ]
        },
        {
          "output_type": "stream",
          "name": "stdout",
          "text": [
            "{'img_id': '/content/Images/Test9.JPG', 'detections': Detections(xyxy=array([[        367,         139,         525,         285]], dtype=float32), mask=None, confidence=array([    0.85721], dtype=float32), class_id=array([0]), tracker_id=None), 'labels': ['animal 0.86']}\n"
          ]
        },
        {
          "output_type": "stream",
          "name": "stderr",
          "text": [
            "INFO:yolov5:Fusing layers... \n",
            "Fusing layers... \n",
            "Fusing layers... \n",
            "INFO:yolov5:Model summary: 733 layers, 140054656 parameters, 0 gradients, 208.8 GFLOPs\n",
            "Model summary: 733 layers, 140054656 parameters, 0 gradients, 208.8 GFLOPs\n",
            "Model summary: 733 layers, 140054656 parameters, 0 gradients, 208.8 GFLOPs\n"
          ]
        },
        {
          "output_type": "stream",
          "name": "stdout",
          "text": [
            "{'img_id': '/content/Images/Test5.JPG', 'detections': Detections(xyxy=array([[         89,         186,         250,         305]], dtype=float32), mask=None, confidence=array([    0.94048], dtype=float32), class_id=array([0]), tracker_id=None), 'labels': ['animal 0.94']}\n"
          ]
        },
        {
          "output_type": "stream",
          "name": "stderr",
          "text": [
            "INFO:yolov5:Fusing layers... \n",
            "Fusing layers... \n",
            "Fusing layers... \n",
            "INFO:yolov5:Model summary: 733 layers, 140054656 parameters, 0 gradients, 208.8 GFLOPs\n",
            "Model summary: 733 layers, 140054656 parameters, 0 gradients, 208.8 GFLOPs\n",
            "Model summary: 733 layers, 140054656 parameters, 0 gradients, 208.8 GFLOPs\n"
          ]
        },
        {
          "output_type": "stream",
          "name": "stdout",
          "text": [
            "{'img_id': '/content/Images/Test8.JPG', 'detections': Detections(xyxy=array([], shape=(0, 4), dtype=float32), mask=None, confidence=array([], dtype=float32), class_id=array([], dtype=int64), tracker_id=None), 'labels': []}\n"
          ]
        }
      ]
    },
    {
      "cell_type": "markdown",
      "source": [
        "# Results"
      ],
      "metadata": {
        "id": "7zEoPy2II4qp"
      }
    },
    {
      "cell_type": "markdown",
      "source": [
        "##Quantitative Results\n",
        "Full tabular results can be viewed below this section. The most noteworthy findings are as follows:\n",
        "\n",
        "* PytorchWildlife identified all wildlife with one exception.\n",
        "*  The COCO trained RCNN did not identify deer.\n",
        "*  Neither model identified the edge case of a rabbit that is hard to see. No human data on identification of this picture is available, but the image was intentionally selected as it is not an obvious animal on first viewing.\n",
        "* PytorchWildlife runtime was 3 minutes 30 seconds.\n",
        "* COCO trained RCNN runtime was 1 minute 44 seconds.\n",
        "* Both models avoided detection on the images with no wildlife. On Test8, the COCO model had some detection of the barrel in the picture.\n",
        "\n",
        "The PytorchWildlife model outperforms the COCO trained RCNN model in wildlife detection over this small dataset. Although the COCO model only detected one less animal, increasing the confidence threshold 3% to 5% would see two additional detections removed. The COCO model did not have any detection of the rabbit edgecase, whereas the PytorchWildlife model had a detection with confidence of 47%. As implemented through this study, the PytorchWildlife module shows promise to be more useful in wildlife detection in comparison to the COCO model.\n",
        "\n",
        "In regards to cropping images, the regions of detection were generally the same, resulting in similar crops. The PytorchWildlife crops better preserved features near the edge, such as the tail of the coyote.\n",
        "\n",
        "\n",
        "![Confidences Scatter Plot.png](data:image/png;base64,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)\n",
        "\n",
        "\n"
      ],
      "metadata": {
        "id": "dmD0t7qiI9Dy"
      }
    },
    {
      "cell_type": "code",
      "source": [
        "df = pd.read_csv('/content/Results.csv')\n",
        "df"
      ],
      "metadata": {
        "colab": {
          "base_uri": "https://localhost:8080/",
          "height": 353
        },
        "id": "BCnsOutURHVX",
        "outputId": "de77b9f3-43b4-4c5c-8641-52006f3e02bc"
      },
      "execution_count": 4,
      "outputs": [
        {
          "output_type": "execute_result",
          "data": {
            "text/plain": [
              "   Image/Object  PW Detections  COCO Detections  PW Confidence  \\\n",
              "0     Test1/Cow              1               10           97.3   \n",
              "1  Test2/2 Deer              2                6           94.5   \n",
              "2    Test3/None              0                0            0.0   \n",
              "3    Test4/Bird              1                3           96.4   \n",
              "4     Test5/Pig              1                8           94.0   \n",
              "5    Test6/None              0                0            0.0   \n",
              "6  Test7/Rabbit              1                0           47.2   \n",
              "7    Test8/None              0                1            0.0   \n",
              "8  Test9/Coyote              1                7           85.7   \n",
              "9   Test10/None              0                0            0.0   \n",
              "\n",
              "   COCO Confidence PW Image Dimensions COCO Image Dimensions  \n",
              "0               77           332 x 310             282 x 283  \n",
              "1               58         1414 x 1014                   NaN  \n",
              "2                0                 NaN                   NaN  \n",
              "3               99           236 x 178             246 x 178  \n",
              "4               76           191 x 149             189 x 141  \n",
              "5                0                 NaN                   NaN  \n",
              "6                0                 NaN                   NaN  \n",
              "7               35                 NaN                   NaN  \n",
              "8               92           186 x 176             128 x 143  \n",
              "9                0                 NaN                   NaN  "
            ],
            "text/html": [
              "\n",
              "  <div id=\"df-3fe88ef6-e52c-4f51-8c12-beda4d3e2301\" class=\"colab-df-container\">\n",
              "    <div>\n",
              "<style scoped>\n",
              "    .dataframe tbody tr th:only-of-type {\n",
              "        vertical-align: middle;\n",
              "    }\n",
              "\n",
              "    .dataframe tbody tr th {\n",
              "        vertical-align: top;\n",
              "    }\n",
              "\n",
              "    .dataframe thead th {\n",
              "        text-align: right;\n",
              "    }\n",
              "</style>\n",
              "<table border=\"1\" class=\"dataframe\">\n",
              "  <thead>\n",
              "    <tr style=\"text-align: right;\">\n",
              "      <th></th>\n",
              "      <th>Image/Object</th>\n",
              "      <th>PW Detections</th>\n",
              "      <th>COCO Detections</th>\n",
              "      <th>PW Confidence</th>\n",
              "      <th>COCO Confidence</th>\n",
              "      <th>PW Image Dimensions</th>\n",
              "      <th>COCO Image Dimensions</th>\n",
              "    </tr>\n",
              "  </thead>\n",
              "  <tbody>\n",
              "    <tr>\n",
              "      <th>0</th>\n",
              "      <td>Test1/Cow</td>\n",
              "      <td>1</td>\n",
              "      <td>10</td>\n",
              "      <td>97.3</td>\n",
              "      <td>77</td>\n",
              "      <td>332 x 310</td>\n",
              "      <td>282 x 283</td>\n",
              "    </tr>\n",
              "    <tr>\n",
              "      <th>1</th>\n",
              "      <td>Test2/2 Deer</td>\n",
              "      <td>2</td>\n",
              "      <td>6</td>\n",
              "      <td>94.5</td>\n",
              "      <td>58</td>\n",
              "      <td>1414 x 1014</td>\n",
              "      <td>NaN</td>\n",
              "    </tr>\n",
              "    <tr>\n",
              "      <th>2</th>\n",
              "      <td>Test3/None</td>\n",
              "      <td>0</td>\n",
              "      <td>0</td>\n",
              "      <td>0.0</td>\n",
              "      <td>0</td>\n",
              "      <td>NaN</td>\n",
              "      <td>NaN</td>\n",
              "    </tr>\n",
              "    <tr>\n",
              "      <th>3</th>\n",
              "      <td>Test4/Bird</td>\n",
              "      <td>1</td>\n",
              "      <td>3</td>\n",
              "      <td>96.4</td>\n",
              "      <td>99</td>\n",
              "      <td>236 x 178</td>\n",
              "      <td>246 x 178</td>\n",
              "    </tr>\n",
              "    <tr>\n",
              "      <th>4</th>\n",
              "      <td>Test5/Pig</td>\n",
              "      <td>1</td>\n",
              "      <td>8</td>\n",
              "      <td>94.0</td>\n",
              "      <td>76</td>\n",
              "      <td>191 x 149</td>\n",
              "      <td>189 x 141</td>\n",
              "    </tr>\n",
              "    <tr>\n",
              "      <th>5</th>\n",
              "      <td>Test6/None</td>\n",
              "      <td>0</td>\n",
              "      <td>0</td>\n",
              "      <td>0.0</td>\n",
              "      <td>0</td>\n",
              "      <td>NaN</td>\n",
              "      <td>NaN</td>\n",
              "    </tr>\n",
              "    <tr>\n",
              "      <th>6</th>\n",
              "      <td>Test7/Rabbit</td>\n",
              "      <td>1</td>\n",
              "      <td>0</td>\n",
              "      <td>47.2</td>\n",
              "      <td>0</td>\n",
              "      <td>NaN</td>\n",
              "      <td>NaN</td>\n",
              "    </tr>\n",
              "    <tr>\n",
              "      <th>7</th>\n",
              "      <td>Test8/None</td>\n",
              "      <td>0</td>\n",
              "      <td>1</td>\n",
              "      <td>0.0</td>\n",
              "      <td>35</td>\n",
              "      <td>NaN</td>\n",
              "      <td>NaN</td>\n",
              "    </tr>\n",
              "    <tr>\n",
              "      <th>8</th>\n",
              "      <td>Test9/Coyote</td>\n",
              "      <td>1</td>\n",
              "      <td>7</td>\n",
              "      <td>85.7</td>\n",
              "      <td>92</td>\n",
              "      <td>186 x 176</td>\n",
              "      <td>128 x 143</td>\n",
              "    </tr>\n",
              "    <tr>\n",
              "      <th>9</th>\n",
              "      <td>Test10/None</td>\n",
              "      <td>0</td>\n",
              "      <td>0</td>\n",
              "      <td>0.0</td>\n",
              "      <td>0</td>\n",
              "      <td>NaN</td>\n",
              "      <td>NaN</td>\n",
              "    </tr>\n",
              "  </tbody>\n",
              "</table>\n",
              "</div>\n",
              "    <div class=\"colab-df-buttons\">\n",
              "\n",
              "  <div class=\"colab-df-container\">\n",
              "    <button class=\"colab-df-convert\" onclick=\"convertToInteractive('df-3fe88ef6-e52c-4f51-8c12-beda4d3e2301')\"\n",
              "            title=\"Convert this dataframe to an interactive table.\"\n",
              "            style=\"display:none;\">\n",
              "\n",
              "  <svg xmlns=\"http://www.w3.org/2000/svg\" height=\"24px\" viewBox=\"0 -960 960 960\">\n",
              "    <path d=\"M120-120v-720h720v720H120Zm60-500h600v-160H180v160Zm220 220h160v-160H400v160Zm0 220h160v-160H400v160ZM180-400h160v-160H180v160Zm440 0h160v-160H620v160ZM180-180h160v-160H180v160Zm440 0h160v-160H620v160Z\"/>\n",
              "  </svg>\n",
              "    </button>\n",
              "\n",
              "  <style>\n",
              "    .colab-df-container {\n",
              "      display:flex;\n",
              "      gap: 12px;\n",
              "    }\n",
              "\n",
              "    .colab-df-convert {\n",
              "      background-color: #E8F0FE;\n",
              "      border: none;\n",
              "      border-radius: 50%;\n",
              "      cursor: pointer;\n",
              "      display: none;\n",
              "      fill: #1967D2;\n",
              "      height: 32px;\n",
              "      padding: 0 0 0 0;\n",
              "      width: 32px;\n",
              "    }\n",
              "\n",
              "    .colab-df-convert:hover {\n",
              "      background-color: #E2EBFA;\n",
              "      box-shadow: 0px 1px 2px rgba(60, 64, 67, 0.3), 0px 1px 3px 1px rgba(60, 64, 67, 0.15);\n",
              "      fill: #174EA6;\n",
              "    }\n",
              "\n",
              "    .colab-df-buttons div {\n",
              "      margin-bottom: 4px;\n",
              "    }\n",
              "\n",
              "    [theme=dark] .colab-df-convert {\n",
              "      background-color: #3B4455;\n",
              "      fill: #D2E3FC;\n",
              "    }\n",
              "\n",
              "    [theme=dark] .colab-df-convert:hover {\n",
              "      background-color: #434B5C;\n",
              "      box-shadow: 0px 1px 3px 1px rgba(0, 0, 0, 0.15);\n",
              "      filter: drop-shadow(0px 1px 2px rgba(0, 0, 0, 0.3));\n",
              "      fill: #FFFFFF;\n",
              "    }\n",
              "  </style>\n",
              "\n",
              "    <script>\n",
              "      const buttonEl =\n",
              "        document.querySelector('#df-3fe88ef6-e52c-4f51-8c12-beda4d3e2301 button.colab-df-convert');\n",
              "      buttonEl.style.display =\n",
              "        google.colab.kernel.accessAllowed ? 'block' : 'none';\n",
              "\n",
              "      async function convertToInteractive(key) {\n",
              "        const element = document.querySelector('#df-3fe88ef6-e52c-4f51-8c12-beda4d3e2301');\n",
              "        const dataTable =\n",
              "          await google.colab.kernel.invokeFunction('convertToInteractive',\n",
              "                                                    [key], {});\n",
              "        if (!dataTable) return;\n",
              "\n",
              "        const docLinkHtml = 'Like what you see? Visit the ' +\n",
              "          '<a target=\"_blank\" href=https://colab.research.google.com/notebooks/data_table.ipynb>data table notebook</a>'\n",
              "          + ' to learn more about interactive tables.';\n",
              "        element.innerHTML = '';\n",
              "        dataTable['output_type'] = 'display_data';\n",
              "        await google.colab.output.renderOutput(dataTable, element);\n",
              "        const docLink = document.createElement('div');\n",
              "        docLink.innerHTML = docLinkHtml;\n",
              "        element.appendChild(docLink);\n",
              "      }\n",
              "    </script>\n",
              "  </div>\n",
              "\n",
              "\n",
              "<div id=\"df-3c0bd6f8-cfb3-4b55-9f94-8a31dbb8a304\">\n",
              "  <button class=\"colab-df-quickchart\" onclick=\"quickchart('df-3c0bd6f8-cfb3-4b55-9f94-8a31dbb8a304')\"\n",
              "            title=\"Suggest charts\"\n",
              "            style=\"display:none;\">\n",
              "\n",
              "<svg xmlns=\"http://www.w3.org/2000/svg\" height=\"24px\"viewBox=\"0 0 24 24\"\n",
              "     width=\"24px\">\n",
              "    <g>\n",
              "        <path d=\"M19 3H5c-1.1 0-2 .9-2 2v14c0 1.1.9 2 2 2h14c1.1 0 2-.9 2-2V5c0-1.1-.9-2-2-2zM9 17H7v-7h2v7zm4 0h-2V7h2v10zm4 0h-2v-4h2v4z\"/>\n",
              "    </g>\n",
              "</svg>\n",
              "  </button>\n",
              "\n",
              "<style>\n",
              "  .colab-df-quickchart {\n",
              "      --bg-color: #E8F0FE;\n",
              "      --fill-color: #1967D2;\n",
              "      --hover-bg-color: #E2EBFA;\n",
              "      --hover-fill-color: #174EA6;\n",
              "      --disabled-fill-color: #AAA;\n",
              "      --disabled-bg-color: #DDD;\n",
              "  }\n",
              "\n",
              "  [theme=dark] .colab-df-quickchart {\n",
              "      --bg-color: #3B4455;\n",
              "      --fill-color: #D2E3FC;\n",
              "      --hover-bg-color: #434B5C;\n",
              "      --hover-fill-color: #FFFFFF;\n",
              "      --disabled-bg-color: #3B4455;\n",
              "      --disabled-fill-color: #666;\n",
              "  }\n",
              "\n",
              "  .colab-df-quickchart {\n",
              "    background-color: var(--bg-color);\n",
              "    border: none;\n",
              "    border-radius: 50%;\n",
              "    cursor: pointer;\n",
              "    display: none;\n",
              "    fill: var(--fill-color);\n",
              "    height: 32px;\n",
              "    padding: 0;\n",
              "    width: 32px;\n",
              "  }\n",
              "\n",
              "  .colab-df-quickchart:hover {\n",
              "    background-color: var(--hover-bg-color);\n",
              "    box-shadow: 0 1px 2px rgba(60, 64, 67, 0.3), 0 1px 3px 1px rgba(60, 64, 67, 0.15);\n",
              "    fill: var(--button-hover-fill-color);\n",
              "  }\n",
              "\n",
              "  .colab-df-quickchart-complete:disabled,\n",
              "  .colab-df-quickchart-complete:disabled:hover {\n",
              "    background-color: var(--disabled-bg-color);\n",
              "    fill: var(--disabled-fill-color);\n",
              "    box-shadow: none;\n",
              "  }\n",
              "\n",
              "  .colab-df-spinner {\n",
              "    border: 2px solid var(--fill-color);\n",
              "    border-color: transparent;\n",
              "    border-bottom-color: var(--fill-color);\n",
              "    animation:\n",
              "      spin 1s steps(1) infinite;\n",
              "  }\n",
              "\n",
              "  @keyframes spin {\n",
              "    0% {\n",
              "      border-color: transparent;\n",
              "      border-bottom-color: var(--fill-color);\n",
              "      border-left-color: var(--fill-color);\n",
              "    }\n",
              "    20% {\n",
              "      border-color: transparent;\n",
              "      border-left-color: var(--fill-color);\n",
              "      border-top-color: var(--fill-color);\n",
              "    }\n",
              "    30% {\n",
              "      border-color: transparent;\n",
              "      border-left-color: var(--fill-color);\n",
              "      border-top-color: var(--fill-color);\n",
              "      border-right-color: var(--fill-color);\n",
              "    }\n",
              "    40% {\n",
              "      border-color: transparent;\n",
              "      border-right-color: var(--fill-color);\n",
              "      border-top-color: var(--fill-color);\n",
              "    }\n",
              "    60% {\n",
              "      border-color: transparent;\n",
              "      border-right-color: var(--fill-color);\n",
              "    }\n",
              "    80% {\n",
              "      border-color: transparent;\n",
              "      border-right-color: var(--fill-color);\n",
              "      border-bottom-color: var(--fill-color);\n",
              "    }\n",
              "    90% {\n",
              "      border-color: transparent;\n",
              "      border-bottom-color: var(--fill-color);\n",
              "    }\n",
              "  }\n",
              "</style>\n",
              "\n",
              "  <script>\n",
              "    async function quickchart(key) {\n",
              "      const quickchartButtonEl =\n",
              "        document.querySelector('#' + key + ' button');\n",
              "      quickchartButtonEl.disabled = true;  // To prevent multiple clicks.\n",
              "      quickchartButtonEl.classList.add('colab-df-spinner');\n",
              "      try {\n",
              "        const charts = await google.colab.kernel.invokeFunction(\n",
              "            'suggestCharts', [key], {});\n",
              "      } catch (error) {\n",
              "        console.error('Error during call to suggestCharts:', error);\n",
              "      }\n",
              "      quickchartButtonEl.classList.remove('colab-df-spinner');\n",
              "      quickchartButtonEl.classList.add('colab-df-quickchart-complete');\n",
              "    }\n",
              "    (() => {\n",
              "      let quickchartButtonEl =\n",
              "        document.querySelector('#df-3c0bd6f8-cfb3-4b55-9f94-8a31dbb8a304 button');\n",
              "      quickchartButtonEl.style.display =\n",
              "        google.colab.kernel.accessAllowed ? 'block' : 'none';\n",
              "    })();\n",
              "  </script>\n",
              "</div>\n",
              "\n",
              "  <div id=\"id_9d73fa7f-6100-43e6-bc4a-8dcc1f2c9699\">\n",
              "    <style>\n",
              "      .colab-df-generate {\n",
              "        background-color: #E8F0FE;\n",
              "        border: none;\n",
              "        border-radius: 50%;\n",
              "        cursor: pointer;\n",
              "        display: none;\n",
              "        fill: #1967D2;\n",
              "        height: 32px;\n",
              "        padding: 0 0 0 0;\n",
              "        width: 32px;\n",
              "      }\n",
              "\n",
              "      .colab-df-generate:hover {\n",
              "        background-color: #E2EBFA;\n",
              "        box-shadow: 0px 1px 2px rgba(60, 64, 67, 0.3), 0px 1px 3px 1px rgba(60, 64, 67, 0.15);\n",
              "        fill: #174EA6;\n",
              "      }\n",
              "\n",
              "      [theme=dark] .colab-df-generate {\n",
              "        background-color: #3B4455;\n",
              "        fill: #D2E3FC;\n",
              "      }\n",
              "\n",
              "      [theme=dark] .colab-df-generate:hover {\n",
              "        background-color: #434B5C;\n",
              "        box-shadow: 0px 1px 3px 1px rgba(0, 0, 0, 0.15);\n",
              "        filter: drop-shadow(0px 1px 2px rgba(0, 0, 0, 0.3));\n",
              "        fill: #FFFFFF;\n",
              "      }\n",
              "    </style>\n",
              "    <button class=\"colab-df-generate\" onclick=\"generateWithVariable('df')\"\n",
              "            title=\"Generate code using this dataframe.\"\n",
              "            style=\"display:none;\">\n",
              "\n",
              "  <svg xmlns=\"http://www.w3.org/2000/svg\" height=\"24px\"viewBox=\"0 0 24 24\"\n",
              "       width=\"24px\">\n",
              "    <path d=\"M7,19H8.4L18.45,9,17,7.55,7,17.6ZM5,21V16.75L18.45,3.32a2,2,0,0,1,2.83,0l1.4,1.43a1.91,1.91,0,0,1,.58,1.4,1.91,1.91,0,0,1-.58,1.4L9.25,21ZM18.45,9,17,7.55Zm-12,3A5.31,5.31,0,0,0,4.9,8.1,5.31,5.31,0,0,0,1,6.5,5.31,5.31,0,0,0,4.9,4.9,5.31,5.31,0,0,0,6.5,1,5.31,5.31,0,0,0,8.1,4.9,5.31,5.31,0,0,0,12,6.5,5.46,5.46,0,0,0,6.5,12Z\"/>\n",
              "  </svg>\n",
              "    </button>\n",
              "    <script>\n",
              "      (() => {\n",
              "      const buttonEl =\n",
              "        document.querySelector('#id_9d73fa7f-6100-43e6-bc4a-8dcc1f2c9699 button.colab-df-generate');\n",
              "      buttonEl.style.display =\n",
              "        google.colab.kernel.accessAllowed ? 'block' : 'none';\n",
              "\n",
              "      buttonEl.onclick = () => {\n",
              "        google.colab.notebook.generateWithVariable('df');\n",
              "      }\n",
              "      })();\n",
              "    </script>\n",
              "  </div>\n",
              "\n",
              "    </div>\n",
              "  </div>\n"
            ],
            "application/vnd.google.colaboratory.intrinsic+json": {
              "type": "dataframe",
              "variable_name": "df",
              "summary": "{\n  \"name\": \"df\",\n  \"rows\": 10,\n  \"fields\": [\n    {\n      \"column\": \"Image/Object\",\n      \"properties\": {\n        \"dtype\": \"string\",\n        \"num_unique_values\": 10,\n        \"samples\": [\n          \"Test9/Coyote\",\n          \"Test2/2 Deer\",\n          \"Test6/None\"\n        ],\n        \"semantic_type\": \"\",\n        \"description\": \"\"\n      }\n    },\n    {\n      \"column\": \"PW Detections\",\n      \"properties\": {\n        \"dtype\": \"number\",\n        \"std\": 0,\n        \"min\": 0,\n        \"max\": 2,\n        \"num_unique_values\": 3,\n        \"samples\": [\n          1,\n          2,\n          0\n        ],\n        \"semantic_type\": \"\",\n        \"description\": \"\"\n      }\n    },\n    {\n      \"column\": \"COCO Detections\",\n      \"properties\": {\n        \"dtype\": \"number\",\n        \"std\": 3,\n        \"min\": 0,\n        \"max\": 10,\n        \"num_unique_values\": 7,\n        \"samples\": [\n          10,\n          6,\n          1\n        ],\n        \"semantic_type\": \"\",\n        \"description\": \"\"\n      }\n    },\n    {\n      \"column\": \"PW Confidence\",\n      \"properties\": {\n        \"dtype\": \"number\",\n        \"std\": 46.62620746127892,\n        \"min\": 0.0,\n        \"max\": 97.3,\n        \"num_unique_values\": 7,\n        \"samples\": [\n          97.3,\n          94.5,\n          47.2\n        ],\n        \"semantic_type\": \"\",\n        \"description\": \"\"\n      }\n    },\n    {\n      \"column\": \"COCO Confidence\",\n      \"properties\": {\n        \"dtype\": \"number\",\n        \"std\": 41,\n        \"min\": 0,\n        \"max\": 99,\n        \"num_unique_values\": 7,\n        \"samples\": [\n          77,\n          58,\n          35\n        ],\n        \"semantic_type\": \"\",\n        \"description\": \"\"\n      }\n    },\n    {\n      \"column\": \"PW Image Dimensions\",\n      \"properties\": {\n        \"dtype\": \"string\",\n        \"num_unique_values\": 5,\n        \"samples\": [\n          \"1414 x 1014\",\n          \"186 x 176\",\n          \"236 x 178\"\n        ],\n        \"semantic_type\": \"\",\n        \"description\": \"\"\n      }\n    },\n    {\n      \"column\": \"COCO Image Dimensions\",\n      \"properties\": {\n        \"dtype\": \"category\",\n        \"num_unique_values\": 4,\n        \"samples\": [\n          \"246 x 178\",\n          \"128 x 143\",\n          \"282 x 283\"\n        ],\n        \"semantic_type\": \"\",\n        \"description\": \"\"\n      }\n    }\n  ]\n}"
            }
          },
          "metadata": {},
          "execution_count": 4
        }
      ]
    },
    {
      "cell_type": "markdown",
      "source": [
        "##Personal View\n",
        "The PytorchWildlife modules were well documented, making them quick and easy to implement. The error from using the batch methods as described was initially frustrating, but generally easy to diagnose and fix.\n",
        "\n",
        "PytorchWildlife's generic \"animal\" label also seemed more efficient than labels from the COCO dataset. If the actual object detected is not in the COCO labels, this can lead to misidentification of the object, and result in a lower confidence score. For example, the antlers of the deer image showed minimal confidence and were labeled 'bicycle'."
      ],
      "metadata": {
        "id": "q1aV6RcL5j_R"
      }
    },
    {
      "cell_type": "code",
      "source": [
        "import numpy as np\n",
        "import pandas as pd\n",
        "import matplotlib.pyplot as plt"
      ],
      "metadata": {
        "id": "PMUGFAUQQyD-"
      },
      "execution_count": 2,
      "outputs": []
    },
    {
      "cell_type": "markdown",
      "source": [
        "\n",
        "\n",
        "---\n",
        "\n",
        "\n",
        "\n",
        "---\n",
        "\n"
      ],
      "metadata": {
        "id": "_ee5dG0O5p2m"
      }
    },
    {
      "source": [
        "# @title PW Confidence vs COCO Confidence\n",
        "\n",
        "from matplotlib import pyplot as plt\n",
        "ax1 = df.plot(kind='scatter', x='Image/Object', y='PW Confidence', s=32, alpha=.8, color = 'blue')\n",
        "ax2 = df.plot(kind='scatter', x='Image/Object', y='COCO Confidence', s=32, alpha=.8, ax= ax1, color = 'red')\n",
        "ax1.legend(['PW', 'COCO'])\n",
        "ax1.set_xlabel('Image/Object')\n",
        "ax1.set_ylabel('Confidence %')\n",
        "ax1.set_title('PytorchWildlife vs COCO Confidence')\n",
        "plt.gca().spines[['top', 'right',]].set_visible(False)\n",
        "plt.axhline(y = 75, color = 'black', linestyle = '--' )\n",
        "plt.xticks(rotation=45, ha='right')\n",
        "plt.text(10, 75, 'Confidence Threshold')"
      ],
      "cell_type": "code",
      "execution_count": 26,
      "outputs": [
        {
          "output_type": "execute_result",
          "data": {
            "text/plain": [
              "Text(10, 75, 'Confidence Threshold')"
            ]
          },
          "metadata": {},
          "execution_count": 26
        },
        {
          "output_type": "display_data",
          "data": {
            "text/plain": [
              "<Figure size 640x480 with 1 Axes>"
            ],
            "image/png": "[encoded data removed]"
          },
          "metadata": {}
        }
      ],
      "metadata": {
        "colab": {
          "base_uri": "https://localhost:8080/",
          "height": 549
        },
        "id": "fdprLeboSo93",
        "outputId": "89319657-4e90-49aa-d695-50e81614a806"
      }
    }
  ],
  "metadata": {
    "colab": {
      "provenance": []
    },
    "kernelspec": {
      "display_name": "Python 3",
      "name": "python3"
    },
    "language_info": {
      "name": "python"
    }
  },
  "nbformat": 4,
  "nbformat_minor": 0
}